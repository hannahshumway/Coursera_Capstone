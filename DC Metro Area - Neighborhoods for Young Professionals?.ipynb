{
 "cells": [
  {
   "cell_type": "markdown",
   "metadata": {},
   "source": [
    "## Introduction"
   ]
  },
  {
   "cell_type": "markdown",
   "metadata": {},
   "source": [
    "Washington, D.C., USA is a hotbed for young professionals getting their start in government- and politics-related fields. In fact, I am one of them! I would like to create a guide of best neighborhoods for young professionals in the D.C. Metropolitan Area (including the District itself, as well as suburbs in Virginia and Maryland). Hopefully, this will help young professionals who are new to the area get a better idea of where they would like to live and/or spend their free time.\n",
    "\n",
    "Resources like [Niche](https://www.niche.com/about/methodology/best-places-for-young-professionals/) and [Zumper](https://www.zumper.com/blog/denvers-hottest-neighborhoods-for-young-professionals/) indicate that young professionals enjoy areas that are walkable and bikeable, accessible by public transportation, have lots of restaurants and bars, and play host to numerous opportunities to enjoy art and museums. Now, we just have to figure out which neighborhoods in the DC area are best for these things!"
   ]
  },
  {
   "cell_type": "markdown",
   "metadata": {},
   "source": [
    "## Data"
   ]
  },
  {
   "cell_type": "markdown",
   "metadata": {},
   "source": [
    "So, how can we attack this problem with data? We'll use two major data sources.\n",
    "\n",
    "1. [Foursquare API](https://developer.foursquare.com/docs/build-with-foursquare/categories/)\n",
    "    The Foursquare API will allow us to pull the \"venues\" available in a zip code-- including food establishments, locations for enjoying nightlife (e.g. bars and breweries), and art galleries, museums, and public art installations.\n",
    "2. [Walk Score API](https://www.walkscore.com/)\n",
    "    The Walk Score API will enable us to pull Walk Scores, Bike Scores, and Transit Scores for all of our zip codes so that we can compare how easy it is to walk, bike, and take public transit there.\n",
    "\n",
    "Using these data sources, we will consider core areas of the DC metropolitan area to figure out which zip codes young professionals are most likely to enjoy: the District of Columbia; Arlington County, VA; Alexandria city, VA; Fairfax County, VA; Fairfax city, VA; Montgomery County, MD; and Prince George's County, MD.\n",
    "\n"
   ]
  },
  {
   "cell_type": "code",
   "execution_count": null,
   "metadata": {},
   "outputs": [],
   "source": []
  }
 ],
 "metadata": {
  "kernelspec": {
   "display_name": "Python 3",
   "language": "python",
   "name": "python3"
  },
  "language_info": {
   "codemirror_mode": {
    "name": "ipython",
    "version": 3
   },
   "file_extension": ".py",
   "mimetype": "text/x-python",
   "name": "python",
   "nbconvert_exporter": "python",
   "pygments_lexer": "ipython3",
   "version": "3.7.7"
  }
 },
 "nbformat": 4,
 "nbformat_minor": 4
}
